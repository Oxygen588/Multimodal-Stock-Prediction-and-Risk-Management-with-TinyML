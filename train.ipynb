{
 "cells": [
  {
   "cell_type": "code",
   "execution_count": 3,
   "metadata": {},
   "outputs": [],
   "source": [
    "import sqlite3\n",
    "db = sqlite3.connect(\"./data_gatherer/fintime.db\",check_same_thread=False)"
   ]
  },
  {
   "cell_type": "code",
   "execution_count": 4,
   "metadata": {},
   "outputs": [],
   "source": [
    "cursor = db.cursor()\n",
    "cursor.execute(\"SELECT ticker,dataJSON FROM stockData\")\n",
    "stockData = cursor.fetchall()"
   ]
  },
  {
   "cell_type": "code",
   "execution_count": 6,
   "metadata": {},
   "outputs": [],
   "source": [
    "import json\n",
    "data = []\n",
    "for row in stockData:\n",
    "    dataaa = json.loads(row[1])\n",
    "    dataaa['ticker'] = row[0]\n",
    "    data.append(dataaa)"
   ]
  },
  {
   "cell_type": "code",
   "execution_count": 7,
   "metadata": {},
   "outputs": [
    {
     "name": "stdout",
     "output_type": "stream",
     "text": [
      "87\n"
     ]
    }
   ],
   "source": [
    "from datetime import datetime\n",
    "def getDataForDaysHistorical(hist, daysStart, daysEnd):\n",
    "    midPoint = int(len(hist) / 2)\n",
    "    startIndex = midPoint + daysStart\n",
    "    endIndex = midPoint + daysEnd\n",
    "    data = hist[startIndex:endIndex]\n",
    "    return data, hist[midPoint]\n",
    "\n",
    "def getDaysFrumCurrentD(hist):\n",
    "    midPoint = int(len(hist) / 2)\n",
    "\n",
    "    return hist[midPoint][\"Date\"]\n",
    "\n",
    "def getDaysFrumCurrent(hist):\n",
    "        date_str = getDaysFrumCurrentD(hist)\n",
    "        date_obj = datetime.strptime(date_str, \"%Y-%m-%d\")\n",
    "        current_date = datetime.now()\n",
    "        difference = (current_date - date_obj).days\n",
    "        return difference\n",
    "\n",
    "\n",
    "def getLowestLow(hist):\n",
    "    lowest = hist[0][\"Low\"]\n",
    "    for day in hist:\n",
    "        if day[\"Low\"] < lowest:\n",
    "            lowest = day[\"Low\"]\n",
    "    return lowest\n",
    "def getDividends(hist):\n",
    "    dividends = 0\n",
    "    for day in hist:\n",
    "        if day[\"Dividends\"] != 0:\n",
    "            dividends += day[\"Dividends\"]\n",
    "    return dividends\n",
    "def getHighestHigh(hist):\n",
    "    highest = hist[0][\"High\"]\n",
    "    for day in hist:\n",
    "        if day[\"High\"] > highest:\n",
    "            highest = day[\"High\"]\n",
    "    return highest\n",
    "\n",
    "\n",
    "def getLowAndHighForDays(hist, start, end):\n",
    "    newHist,midpoint = getDataForDaysHistorical(hist, start, end)\n",
    "    return getLowestLow(newHist), getHighestHigh(newHist),getDividends(newHist),midpoint[\"Date\"]\n",
    "\n",
    "def getDataForPercentageRange(hist, startPercent, endPercent):\n",
    "    midPoint = len(hist) // 2\n",
    "    startIndex = midPoint + int(midPoint * startPercent / 100)\n",
    "    endIndex = midPoint + int(midPoint * endPercent / 100)\n",
    "    startIndex = max(0, startIndex)\n",
    "    endIndex = min(len(hist), endIndex)\n",
    "    data = hist[startIndex:endIndex]\n",
    "    return getHighestHigh(data), getLowestLow(data), getDividends(data)\n",
    "\n",
    "print(getDaysFrumCurrent(data[0][\"hist\"]))"
   ]
  },
  {
   "cell_type": "code",
   "execution_count": 8,
   "metadata": {},
   "outputs": [
    {
     "data": {
      "text/plain": [
       "(237.76597136065524, 202.7194522842973, 0)"
      ]
     },
     "execution_count": 8,
     "metadata": {},
     "output_type": "execute_result"
    }
   ],
   "source": [
    "getDataForPercentageRange(data[0][\"hist\"],-50,-20)"
   ]
  },
  {
   "cell_type": "code",
   "execution_count": null,
   "metadata": {},
   "outputs": [],
   "source": [
    "err=0\n",
    "for dataP in data:\n",
    "        try:\n",
    "            getDataForPercentageRange(dataP[\"hist\"], -100, -80)[0]\n",
    "            getDataForPercentageRange(dataP[\"hist\"], -80, -60)[1]\n",
    "            getDataForPercentageRange(dataP[\"hist\"], -60, -40)[0]\n",
    "            getDataForPercentageRange(dataP[\"hist\"], -60, -40)[1]\n",
    "            getDataForPercentageRange(dataP[\"hist\"], -40, -20)[0]\n",
    "            getDataForPercentageRange(dataP[\"hist\"], -40, -20)[1]\n",
    "            getDataForPercentageRange(dataP[\"hist\"], -20, -0)[0]\n",
    "            getDataForPercentageRange(dataP[\"hist\"], -20, -0)[1]\n",
    "\n",
    "            getDataForPercentageRange(dataP[\"hist\"], 0, 20)\n",
    "            getDataForPercentageRange(dataP[\"hist\"], 0, 100)\n",
    "        except:\n",
    "              err+=1\n",
    "              data.remove(dataP)\n",
    "err"
   ]
  },
  {
   "cell_type": "code",
   "execution_count": null,
   "metadata": {},
   "outputs": [],
   "source": [
    "newData=[]\n",
    "results = []\n",
    "for company in data:\n",
    "        result = []\n",
    "        extra = company.get(\"extra\", {})\n",
    "        \n",
    "        # Extract numeric features from 'extra' section\n",
    "        fiscal_year = extra.get(\"Fiscal Year\", {})\n",
    "        profitability = extra.get(\"Profitability\", {})\n",
    "        management = extra.get(\"Management Effectiveness\", {})\n",
    "        income_statement = extra.get(\"Income Statement\", {})\n",
    "        balance_sheet = extra.get(\"Balance Sheet\", {})\n",
    "        cash_flow = extra.get(\"Cash Flow Statement\", {})\n",
    "        stock_history = extra.get(\"Stock Price History\", {})\n",
    "        share_stats = extra.get(\"Share Statistics\", {})\n",
    "        dividends_splits = extra.get(\"Dividends & Splits\", {})\n",
    "        \n",
    "        result = [\n",
    "            company.get(\"current_price\", 0) or -1,\n",
    "            company.get(\"Market Cap\", 0) or -1,\n",
    "            company.get(\"Enterprise Value\", 0) or -1,\n",
    "            company.get(\"Trailing P/E\", 0) or -1,\n",
    "            company.get(\"Forward P/E\", 0) or -1,\n",
    "            company.get(\"PEG Ratio (5yr expected)\", 0) or -1,\n",
    "            company.get(\"Price/Sales\", 0) or -1,\n",
    "            company.get(\"Price/Book\", 0) or -1,\n",
    "            company.get(\"Enterprise Value/Revenue\", 0) or -1,\n",
    "            company.get(\"Enterprise Value/EBITDA\", 0) or -1,\n",
    "            getDataForPercentageRange(company.get(\"hist\"), -100, -80)[0],\n",
    "            getDataForPercentageRange(company.get(\"hist\"), -80, -60)[1],\n",
    "            getDataForPercentageRange(company.get(\"hist\"), -60, -40)[0],\n",
    "            getDataForPercentageRange(company.get(\"hist\"), -60, -40)[1],\n",
    "            getDataForPercentageRange(company.get(\"hist\"), -40, -20)[0],\n",
    "            getDataForPercentageRange(company.get(\"hist\"), -40, -20)[1],\n",
    "            getDataForPercentageRange(company.get(\"hist\"), -20, -0)[0],\n",
    "            getDataForPercentageRange(company.get(\"hist\"), -20, -0)[1],\n",
    "\n",
    "            float(profitability.get(\"Profit Margin\", -1)) if profitability.get(\"Profit Margin\") is not None else -1.0,\n",
    "            float(profitability.get(\"Operating Margin  (ttm)\", -1)) if profitability.get(\"Operating Margin  (ttm)\") is not None else -1.0,\n",
    "            # Management Effectiveness\n",
    "            float(management.get(\"Return on Assets  (ttm)\", -1)) if management.get(\"Return on Assets  (ttm)\") is not None else -1.0,\n",
    "            float(management.get(\"Return on Equity  (ttm)\", -1)) if management.get(\"Return on Equity  (ttm)\") is not None else -1.0,\n",
    "            # Income Statement\n",
    "            float(income_statement.get(\"Revenue  (ttm)\", 0)) if income_statement.get(\"Revenue  (ttm)\") is not None else -1.0,\n",
    "            float(income_statement.get(\"Revenue Per Share  (ttm)\", 0)) if income_statement.get(\"Revenue Per Share  (ttm)\") is not None else -1.0,\n",
    "            float(income_statement.get(\"Quarterly Revenue Growth  (yoy)\", 0)) if income_statement.get(\"Quarterly Revenue Growth  (yoy)\") is not None else -1.0,\n",
    "            float(income_statement.get(\"Gross Profit  (ttm)\", 0)) if income_statement.get(\"Gross Profit  (ttm)\") is not None else -1.0,\n",
    "            float(income_statement.get(\"EBITDA\", 0)) if income_statement.get(\"EBITDA\") is not None else -1.0,\n",
    "            float(income_statement.get(\"Net Income Avi to Common  (ttm)\", 0)) if income_statement.get(\"Net Income Avi to Common  (ttm)\") is not None else -1.0,\n",
    "            float(income_statement.get(\"Diluted EPS  (ttm)\", 0)) if income_statement.get(\"Diluted EPS  (ttm)\") is not None else -1.0,\n",
    "            float(income_statement.get(\"Quarterly Earnings Growth  (yoy)\", 0)) if income_statement.get(\"Quarterly Earnings Growth  (yoy)\") is not None else -1.0,\n",
    "            # Balance Sheet\n",
    "            float(balance_sheet.get(\"Total Cash  (mrq)\", 0)) if balance_sheet.get(\"Total Cash  (mrq)\") is not None else -1.0,\n",
    "            float(balance_sheet.get(\"Total Cash Per Share  (mrq)\", 0)) if balance_sheet.get(\"Total Cash Per Share  (mrq)\") is not None else -1.0,\n",
    "            float(balance_sheet.get(\"Total Debt  (mrq)\", 0)) if balance_sheet.get(\"Total Debt  (mrq)\") is not None else -1.0,\n",
    "            float(balance_sheet.get(\"Total Debt/Equity  (mrq)\", 0)) if balance_sheet.get(\"Total Debt/Equity  (mrq)\") is not None else -1.0,\n",
    "            float(balance_sheet.get(\"Current Ratio  (mrq)\", 0)) if balance_sheet.get(\"Current Ratio  (mrq)\") is not None else -1.0,\n",
    "            float(balance_sheet.get(\"Book Value Per Share  (mrq)\", 0)) if balance_sheet.get(\"Book Value Per Share  (mrq)\") is not None else -1.0,\n",
    "            # Cash Flow Statement\n",
    "            float(cash_flow.get(\"Operating Cash Flow  (ttm)\", 0)) if cash_flow.get(\"Operating Cash Flow  (ttm)\") is not None else -1.0,\n",
    "            float(cash_flow.get(\"Levered Free Cash Flow  (ttm)\", 0)) if cash_flow.get(\"Levered Free Cash Flow  (ttm)\") is not None else -1.0,\n",
    "            # Stock Price History\n",
    "            float(stock_history.get(\"Beta (5Y Monthly)\", 0)) if stock_history.get(\"Beta (5Y Monthly)\") is not None else -1.0,\n",
    "            float(stock_history.get(\"52 Week Range3\", 0)) if stock_history.get(\"52 Week Range3\") is not None else -1.0,\n",
    "            float(stock_history.get(\"S&P 500 52-Week Change3\", 0)) if stock_history.get(\"S&P 500 52-Week Change3\") is not None else -1.0,\n",
    "            float(stock_history.get(\"52 Week High3\", 0)) if stock_history.get(\"52 Week High3\") is not None else -1.0,\n",
    "            float(stock_history.get(\"52 Week Low3\", 0)) if stock_history.get(\"52 Week Low3\") is not None else -1.0,\n",
    "            float(stock_history.get(\"50-Day Moving Average3\", 0)) if stock_history.get(\"50-Day Moving Average3\") is not None else -1.0,\n",
    "            float(stock_history.get(\"200-Day Moving Average3\", 0)) if stock_history.get(\"200-Day Moving Average3\") is not None else -1.0,\n",
    "            # Share Statistics\n",
    "            float(share_stats.get(\"Avg Vol (3 month)3\", 0)) if share_stats.get(\"Avg Vol (3 month)3\") is not None else -1.0,\n",
    "            float(share_stats.get(\"Avg Vol (10 day)3\", 0)) if share_stats.get(\"Avg Vol (10 day)3\") is not None else -1.0,\n",
    "            float(share_stats.get(\"Shares Outstanding5\", 0)) if share_stats.get(\"Shares Outstanding5\") is not None else -1.0,\n",
    "            float(share_stats.get(\"Implied Shares Outstanding6\", 0)) if share_stats.get(\"Implied Shares Outstanding6\") is not None else -1.0,\n",
    "            float(share_stats.get(\"Float8\", 0)) if share_stats.get(\"Float8\") is not None else -1.0,\n",
    "            float(share_stats.get(\"% Held by Insiders1\", 0)) if share_stats.get(\"% Held by Insiders1\") is not None else -1.0,\n",
    "            float(share_stats.get(\"% Held by Institutions1\", 0)) if share_stats.get(\"% Held by Institutions1\") is not None else -1.0,\n",
    "            float(share_stats.get(\"Shares Short (12/31/2024)4\", 0)) if share_stats.get(\"Shares Short (12/31/2024)4\") is not None else -1.0,\n",
    "            float(share_stats.get(\"Short Ratio (12/31/2024)4\", 0)) if share_stats.get(\"Short Ratio (12/31/2024)4\") is not None else -1.0,\n",
    "            float(share_stats.get(\"Short % of Float (12/31/2024)4\", 0)) if share_stats.get(\"Short % of Float (12/31/2024)4\") is not None else -1.0,\n",
    "            float(share_stats.get(\"Short % of Shares Outstanding (12/31/2024)4\", 0)) if share_stats.get(\"Short % of Shares Outstanding (12/31/2024)4\") is not None else -1.0,\n",
    "            float(share_stats.get(\"Shares Short (prior month 11/29/2024)4\", 0)) if share_stats.get(\"Shares Short (prior month 11/29/2024)4\") is not None else -1.0,\n",
    "        ]\n",
    "        for feature in result:\n",
    "            if feature == -1:\n",
    "                result.remove(feature)\n",
    "        if len(result)>52:\n",
    "            newData.append(company)\n",
    "        results.append(len(result))\n",
    "print(results[0:25])\n"
   ]
  },
  {
   "cell_type": "code",
   "execution_count": null,
   "metadata": {},
   "outputs": [],
   "source": [
    "len(newData)"
   ]
  },
  {
   "cell_type": "code",
   "execution_count": null,
   "metadata": {},
   "outputs": [],
   "source": [
    "nr = 0\n",
    "for result in results:\n",
    "    if result>53:\n",
    "        nr+=1\n",
    "nr"
   ]
  },
  {
   "cell_type": "code",
   "execution_count": null,
   "metadata": {},
   "outputs": [],
   "source": [
    "import matplotlib.pyplot as plt\n",
    "import statistics\n",
    "\n",
    "\n",
    "mean = statistics.mean(results)\n",
    "std_dev = statistics.stdev(results)\n",
    "\n",
    "plt.figure(figsize=(10, 6))\n",
    "plt.plot(results, 'bo-', label='Data Points')  # Corrected format string\n",
    "plt.axhline(mean, color='r', linestyle='--', label=f'Mean ({mean:.2f})')\n",
    "plt.axhline(mean + std_dev, color='g', linestyle=':', label=f'Mean +/- 1 SD ({std_dev:.2f})')\n",
    "plt.axhline(mean - std_dev, color='g', linestyle=':')\n",
    "\n",
    "plt.title('Data Points with Mean and Standard Deviation')\n",
    "plt.xlabel('Index')\n",
    "plt.ylabel('Value')\n",
    "plt.legend()\n",
    "plt.grid(True)\n",
    "plt.show()\n"
   ]
  }
 ],
 "metadata": {
  "kernelspec": {
   "display_name": "Python 3",
   "language": "python",
   "name": "python3"
  },
  "language_info": {
   "codemirror_mode": {
    "name": "ipython",
    "version": 3
   },
   "file_extension": ".py",
   "mimetype": "text/x-python",
   "name": "python",
   "nbconvert_exporter": "python",
   "pygments_lexer": "ipython3",
   "version": "3.9.2"
  }
 },
 "nbformat": 4,
 "nbformat_minor": 2
}
